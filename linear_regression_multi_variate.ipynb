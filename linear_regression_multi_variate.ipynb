{
 "cells": [
  {
   "cell_type": "markdown",
   "metadata": {},
   "source": [
    "<i>In this part, you will implement linear regression with multiple variables to predict the prices of houses. Suppose you are selling your house and you want to know what a good market price would be. One way to do this is to ﬁrst collect information on recent houses sold and make a model of housing prices. The ﬁle ex1data2.txt contains a training set of housing prices in Portland, Oregon. The ﬁrst column is the size of the house (in square feet), the second column is the number of bedrooms, and the third column is the price of the house. </i>"
   ]
  },
  {
   "cell_type": "markdown",
   "metadata": {},
   "source": [
    "<b>STEP 1 : Feature Normalization</b>\n",
    "\n",
    "We will start by loading and displaying some values from this dataset. By looking at the values, note that house sizes are about 1000 times the number of bedrooms. When features diﬀer by orders of magnitude, ﬁrst performing feature scaling can make gradient descent converge much more quickly.\n"
   ]
  },
  {
   "cell_type": "code",
   "execution_count": 43,
   "metadata": {},
   "outputs": [],
   "source": [
    "import numpy as np\n",
    "import pandas as pd\n",
    "import matplotlib.pyplot as plt\n",
    "\n",
    "col_names = ['House Size', 'No. of Bedrooms', 'House Price']\n",
    "df = pd.read_csv('ex1data2.txt', names = col_names)"
   ]
  },
  {
   "cell_type": "code",
   "execution_count": 44,
   "metadata": {},
   "outputs": [
    {
     "data": {
      "text/html": [
       "<div>\n",
       "<style scoped>\n",
       "    .dataframe tbody tr th:only-of-type {\n",
       "        vertical-align: middle;\n",
       "    }\n",
       "\n",
       "    .dataframe tbody tr th {\n",
       "        vertical-align: top;\n",
       "    }\n",
       "\n",
       "    .dataframe thead th {\n",
       "        text-align: right;\n",
       "    }\n",
       "</style>\n",
       "<table border=\"1\" class=\"dataframe\">\n",
       "  <thead>\n",
       "    <tr style=\"text-align: right;\">\n",
       "      <th></th>\n",
       "      <th>House Size</th>\n",
       "      <th>No. of Bedrooms</th>\n",
       "      <th>House Price</th>\n",
       "    </tr>\n",
       "  </thead>\n",
       "  <tbody>\n",
       "    <tr>\n",
       "      <th>0</th>\n",
       "      <td>2104</td>\n",
       "      <td>3</td>\n",
       "      <td>399900</td>\n",
       "    </tr>\n",
       "    <tr>\n",
       "      <th>1</th>\n",
       "      <td>1600</td>\n",
       "      <td>3</td>\n",
       "      <td>329900</td>\n",
       "    </tr>\n",
       "    <tr>\n",
       "      <th>2</th>\n",
       "      <td>2400</td>\n",
       "      <td>3</td>\n",
       "      <td>369000</td>\n",
       "    </tr>\n",
       "    <tr>\n",
       "      <th>3</th>\n",
       "      <td>1416</td>\n",
       "      <td>2</td>\n",
       "      <td>232000</td>\n",
       "    </tr>\n",
       "    <tr>\n",
       "      <th>4</th>\n",
       "      <td>3000</td>\n",
       "      <td>4</td>\n",
       "      <td>539900</td>\n",
       "    </tr>\n",
       "  </tbody>\n",
       "</table>\n",
       "</div>"
      ],
      "text/plain": [
       "   House Size  No. of Bedrooms  House Price\n",
       "0        2104                3       399900\n",
       "1        1600                3       329900\n",
       "2        2400                3       369000\n",
       "3        1416                2       232000\n",
       "4        3000                4       539900"
      ]
     },
     "execution_count": 44,
     "metadata": {},
     "output_type": "execute_result"
    }
   ],
   "source": [
    "df.head(5)"
   ]
  },
  {
   "cell_type": "code",
   "execution_count": 45,
   "metadata": {},
   "outputs": [],
   "source": [
    "def normalize_features(X):\n",
    "    X_copy = X.copy(deep=True)\n",
    "    X_copy = (X_copy - X_copy.mean())/X_copy.std()\n",
    "    return X_copy"
   ]
  },
  {
   "cell_type": "code",
   "execution_count": 46,
   "metadata": {},
   "outputs": [],
   "source": [
    "# we store this value to later normalize the value we make prediction for\n",
    "houseSize_mean, bedroom_mean, price_mean = df.mean()\n",
    "houseSize_sd, bedroom_sd, price_sd = df.std()"
   ]
  },
  {
   "cell_type": "code",
   "execution_count": 51,
   "metadata": {},
   "outputs": [],
   "source": [
    "def compute_cost(X, Y, theta) :\n",
    "    hypothesis_matrix = np.dot(X.T,theta)\n",
    "    cost = np.sum(np.square(np.subtract(hypothesis_matrix, Y)), axis=0)\n",
    "    cost = cost / (2 * len(X))\n",
    "    print('Cost value is ' + str(cost))"
   ]
  },
  {
   "cell_type": "code",
   "execution_count": 55,
   "metadata": {},
   "outputs": [],
   "source": [
    "def gradient_descent(X, theta, Y, num_of_iter, alpha):\n",
    "    m = len(X)\n",
    "    alpha = alpha / m\n",
    "    temp_theta = np.matrix.copy(theta)\n",
    "    for i in range(num_of_iter):\n",
    "        #compute_cost(X, Y, theta)\n",
    "        hypothesis_matrix = np.dot(X, theta)\n",
    "        for j in range(len(theta)):\n",
    "            value = (alpha * np.sum(np.multiply(np.subtract(hypothesis_matrix, Y), np.row_stack(X[:, j]))))\n",
    "            #print(value)\n",
    "            theta[j][0] = temp_theta[j][0] - value\n",
    "        temp_theta = np.matrix.copy(theta)\n",
    "        '''if i == 100 :\n",
    "            print(temp_theta)'''\n",
    "    return theta"
   ]
  },
  {
   "cell_type": "code",
   "execution_count": 56,
   "metadata": {},
   "outputs": [
    {
     "name": "stdout",
     "output_type": "stream",
     "text": [
      "('theta from gradient descent: \\n', array([[-1.23287905e-16],\n",
      "       [ 8.00441430e-01],\n",
      "       [ 2.93790099e-02]]))\n",
      "Enter size of house : 2104\n",
      "Enter no of bedrooms : 3\n",
      "('profit predicted by gradient descent: ', array([[1684.12219692]]))\n"
     ]
    }
   ],
   "source": [
    "def predict(theta):\n",
    "    size = input('Enter size of house : ')\n",
    "    no_of_bedrooms = input('Enter no of bedrooms : ')\n",
    "    size_norm = (size - houseSize_mean)/ houseSize_sd\n",
    "    no_of_bedrooms = (no_of_bedrooms - bedroom_mean) / bedroom_sd\n",
    "    input_matrix = np.column_stack([1, float(size), float(no_of_bedrooms)])\n",
    "    price = np.dot(input_matrix,theta)\n",
    "    return price\n",
    "\n",
    "\n",
    "def run():\n",
    "    names = ['size', 'no_of_bedrooms', 'price']\n",
    "    dataset = pd.read_csv('ex1data2.txt', names=names)\n",
    "    dataset_norm = normalize_features(dataset)\n",
    "    array = dataset_norm.values\n",
    "\n",
    "    # initialize values\n",
    "    x = array[:, 0:2]  \n",
    "    x = np.column_stack([np.ones(len(x)), x])\n",
    "    y = array[:, 2]\n",
    "    y = np.row_stack(y)\n",
    "\n",
    "    n = len(x[0]) # number of features\n",
    "    theta = np.zeros(shape=(n, 1))\n",
    "\n",
    "    # Gradient Descent\n",
    "    GDtheta = gradient_descent(x, theta, y, 400, 0.01)\n",
    "    print(\"theta from gradient descent: \\n\", GDtheta)\n",
    "\n",
    "    profit = predict(GDtheta)\n",
    "    print(\"profit predicted by gradient descent: \", profit)\n",
    "\n",
    "\n",
    "if __name__ == '__main__':\n",
    "    run()"
   ]
  },
  {
   "cell_type": "code",
   "execution_count": null,
   "metadata": {},
   "outputs": [],
   "source": []
  }
 ],
 "metadata": {
  "kernelspec": {
   "display_name": "Python 2",
   "language": "python",
   "name": "python2"
  },
  "language_info": {
   "codemirror_mode": {
    "name": "ipython",
    "version": 2
   },
   "file_extension": ".py",
   "mimetype": "text/x-python",
   "name": "python",
   "nbconvert_exporter": "python",
   "pygments_lexer": "ipython2",
   "version": "2.7.15"
  }
 },
 "nbformat": 4,
 "nbformat_minor": 2
}
